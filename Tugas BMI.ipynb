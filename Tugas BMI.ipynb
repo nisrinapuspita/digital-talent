{
 "cells": [
  {
   "cell_type": "markdown",
   "metadata": {},
   "source": [
    "# Calculator BMI"
   ]
  },
  {
   "cell_type": "code",
   "execution_count": 8,
   "metadata": {},
   "outputs": [
    {
     "name": "stdout",
     "output_type": "stream",
     "text": [
      "Enter your weight (kg): 45\n",
      "Enter your height (cm): 159\n",
      "Your BMI:  17.799928800284796\n",
      "You are Underweight\n"
     ]
    }
   ],
   "source": [
    "weight = float(input(\"Enter your weight (kg): \"))\n",
    "height = float(input(\"Enter your height (cm): \"))\n",
    "height = height * (10**-2)\n",
    "\n",
    "BMI = weight / (height**2)\n",
    "print (\"Your BMI: \", BMI)\n",
    "\n",
    "if BMI<15:\n",
    "    print (\"You are\", \"Very severely underweight\")\n",
    "elif BMI >=15 and BMI <16:\n",
    "    print (\"You are\", \"Severely underweight\")\n",
    "elif BMI >=16 and BMI <18.5:\n",
    "    print (\"You are\", \"Underweight\")\n",
    "elif BMI >=18.5 and BMI <25:\n",
    "    print (\"You are\", \"Normal (healthy weight)\")\n",
    "elif BMI >=25 and BMI <30:\n",
    "    print (\"You are\", \"Overweight\")\n",
    "elif BMI >=30 and BMI <35:\n",
    "    print (\"You are\", \"Moderately obese\")\n",
    "elif BMI >=35 and BMI <40:\n",
    "    print (\"You are\", \"Severely obese\")\n",
    "else :\n",
    "    print (\"You are\", \"Very severely obese\")\n",
    "    "
   ]
  },
  {
   "cell_type": "code",
   "execution_count": null,
   "metadata": {},
   "outputs": [],
   "source": []
  }
 ],
 "metadata": {
  "kernelspec": {
   "display_name": "Python 3",
   "language": "python",
   "name": "python3"
  },
  "language_info": {
   "codemirror_mode": {
    "name": "ipython",
    "version": 3
   },
   "file_extension": ".py",
   "mimetype": "text/x-python",
   "name": "python",
   "nbconvert_exporter": "python",
   "pygments_lexer": "ipython3",
   "version": "3.7.0"
  }
 },
 "nbformat": 4,
 "nbformat_minor": 2
}
