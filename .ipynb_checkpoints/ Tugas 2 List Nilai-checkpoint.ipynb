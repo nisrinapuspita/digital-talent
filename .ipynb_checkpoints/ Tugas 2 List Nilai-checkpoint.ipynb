{
 "cells": [
  {
   "cell_type": "code",
   "execution_count": 2,
   "metadata": {},
   "outputs": [
    {
     "name": "stdout",
     "output_type": "stream",
     "text": [
      "[63, 56, 44, 51, 60, 55, 62, 70, 91, 41, 18, 65, 36, 89, 64, 16, 16, 8, 84, 31, 65, 75, 66, 83, 13, 40, 55, 98, 17, 57, 74, 49, 18, 31, 57, 74, 82, 88, 13, 32, 9, 33, 47, 24, 49, 53, 50, 15, 51, 41, 41, 40, 85, 30, 94, 31, 69, 98, 65, 16, 16, 18, 77, 14, 22, 42, 60, 42, 27, 71, 53, 71, 65, 43, 51, 22, 12, 52, 11, 56, 64, 13, 83, 3, 15, 5, 51, 4, 86, 7, 11, 31, 93, 30, 54, 64, 36, 45, 64, 67, 63, 9, 25, 65, 10, 87, 41, 16, 55, 14, 10, 36, 6, 66, 80, 20, 93, 39, 60, 15, 10, 13, 54, 82, 78, 92, 1, 22, 6, 56, 47, 16, 92, 69, 64, 48, 10, 26, 3, 82, 54, 99, 56, 6, 24, 17, 92, 56, 25, 87, 32, 29, 82, 62, 83, 46, 57, 34, 96, 98, 41, 46, 65, 36, 58, 17, 19, 95, 68, 72, 78, 2, 31, 12, 15, 58, 27, 37, 17, 44, 52, 57, 13, 94, 18, 86, 72, 54, 57, 47, 27, 7, 99, 21, 68, 38, 73, 81, 58, 29, 96, 25, 4, 66, 73, 1, 82, 20, 40, 19, 26, 48, 56, 18, 96, 34, 66, 48, 58, 3, 23, 58, 16, 89, 31, 45, 71, 62, 10, 50, 15, 44, 54, 78, 87, 23, 15, 3, 27, 27, 82, 92, 97, 70, 62, 99, 44, 19, 69, 82]\n"
     ]
    }
   ],
   "source": [
    "import random\n",
    "\n",
    "# GENERATE RANDOM\n",
    "nilaiTugas = []\n",
    "for i in range(250):\n",
    "    nilaiTugas.append(random.randrange(1,100,1))\n",
    "\n",
    "print(nilaiTugas)"
   ]
  },
  {
   "cell_type": "markdown",
   "metadata": {},
   "source": [
    "##### 1. Tampilkan Angka Ganjil dari ke 250 nilai tersebut"
   ]
  },
  {
   "cell_type": "code",
   "execution_count": 8,
   "metadata": {},
   "outputs": [
    {
     "name": "stdout",
     "output_type": "stream",
     "text": [
      "[63, 51, 55, 91, 41, 65, 89, 31, 65, 75, 83, 13, 55, 17, 57, 49, 31, 57, 13, 9, 33, 47, 49, 53, 15, 51, 41, 41, 85, 31, 69, 65, 77, 27, 71, 53, 71, 65, 43, 51, 11, 13, 83, 3, 15, 5, 51, 7, 11, 31, 93, 45, 67, 63, 9, 25, 65, 87, 41, 55, 93, 39, 15, 13, 1, 47, 69, 3, 99, 17, 25, 87, 29, 83, 57, 41, 65, 17, 19, 95, 31, 15, 27, 37, 17, 57, 13, 57, 47, 27, 7, 99, 21, 73, 81, 29, 25, 73, 1, 19, 3, 23, 89, 31, 45, 71, 15, 87, 23, 15, 3, 27, 27, 97, 99, 19, 69]\n"
     ]
    }
   ],
   "source": [
    "#ganjil\n",
    "\n",
    "ganjil=[]\n",
    "\n",
    "for a in nilaiTugas:\n",
    "    if a%2 == 1:\n",
    "        ganjil.append(a)\n",
    "\n",
    "print (ganjil)"
   ]
  },
  {
   "cell_type": "markdown",
   "metadata": {},
   "source": [
    "##### 2. Menampilkan berapa banyak yang mendapatkan nilai lebih dari 70"
   ]
  },
  {
   "cell_type": "code",
   "execution_count": 28,
   "metadata": {},
   "outputs": [
    {
     "name": "stdout",
     "output_type": "stream",
     "text": [
      "[91, 89, 84, 75, 83, 98, 74, 74, 82, 88, 85, 94, 98, 77, 71, 71, 83, 86, 93, 87, 80, 93, 82, 78, 92, 92, 82, 99, 92, 87, 82, 83, 96, 98, 95, 72, 78, 94, 86, 72, 99, 73, 81, 96, 73, 82, 96, 89, 71, 78, 87, 82, 92, 97, 99, 82]\n",
      "Nilai yang lebih dari 70 :  56\n"
     ]
    }
   ],
   "source": [
    "#nilai > 70\n",
    "\n",
    "lebih70= []\n",
    "\n",
    "for n in nilaiTugas:\n",
    "    if n>70:\n",
    "        lebih70.append(n)\n",
    "print (lebih70)\n",
    "print (\"Nilai yang lebih dari 70 : \", len(lebih70))"
   ]
  },
  {
   "cell_type": "markdown",
   "metadata": {},
   "source": [
    "##### 3. Menampilkan standar deviasi dari sekumpulan nilai tersebut"
   ]
  },
  {
   "cell_type": "code",
   "execution_count": 33,
   "metadata": {},
   "outputs": [
    {
     "name": "stdout",
     "output_type": "stream",
     "text": [
      "mean:  47.308\n",
      "Standar Deviasi:  27.60458541619489\n"
     ]
    }
   ],
   "source": [
    "#standar deviasi\n",
    "\n",
    "jml = 0\n",
    "for n in nilaiTugas:\n",
    "    jml = jml + n\n",
    "mean = jml / len(nilaiTugas)\n",
    "\n",
    "sg= 0\n",
    "for n in nilaiTugas:\n",
    "    i = (n - mean)**2\n",
    "    sg = sg + i\n",
    "    \n",
    "std_deviasi = ((sg/len(nilaiTugas)-1)**0.5)\n",
    "print(\"Standar Deviasi: \", std_deviasi)\n",
    "  "
   ]
  },
  {
   "cell_type": "markdown",
   "metadata": {},
   "source": [
    "##### 4. Menampilkan nilai maksimum dan minimum"
   ]
  },
  {
   "cell_type": "code",
   "execution_count": 35,
   "metadata": {},
   "outputs": [
    {
     "name": "stdout",
     "output_type": "stream",
     "text": [
      "Nilai Maksimal:  99\n",
      "Nilai Minimum:  1\n"
     ]
    }
   ],
   "source": [
    "#maksimum\n",
    "\n",
    "Max = 0\n",
    "for n in nilaiTugas:\n",
    "    if n > Max:\n",
    "        Max = n\n",
    "print('Nilai Maksimal: ', Max )\n",
    "\n",
    "#minimum\n",
    "for n in nilaiTugas:\n",
    "    if n < Max:\n",
    "        Max = n\n",
    "print('Nilai Minimum: ', Max )"
   ]
  },
  {
   "cell_type": "markdown",
   "metadata": {},
   "source": [
    "##### 5. Tampilkan modus dari sekumpulan nilai tersebut"
   ]
  },
  {
   "cell_type": "code",
   "execution_count": 39,
   "metadata": {},
   "outputs": [
    {
     "name": "stdout",
     "output_type": "stream",
     "text": [
      "Nilai Modus: 16\n"
     ]
    }
   ],
   "source": [
    "#modus \n",
    "\n",
    "nilaiModus=nilaiTugas[0]\n",
    "jumlah=nilaiTugas.count(nilaiModus)\n",
    "\n",
    "for n in nilaiTugas:\n",
    "    jumlahN=nilaiTugas.count(n)\n",
    "    if jumlahN>jumlah:\n",
    "        nilaiModus=n\n",
    "        jumlah=jumlahN\n",
    "        \n",
    "print(\"Nilai Modus:\", nilaiModus)"
   ]
  }
 ],
 "metadata": {
  "kernelspec": {
   "display_name": "Python 3",
   "language": "python",
   "name": "python3"
  },
  "language_info": {
   "codemirror_mode": {
    "name": "ipython",
    "version": 3
   },
   "file_extension": ".py",
   "mimetype": "text/x-python",
   "name": "python",
   "nbconvert_exporter": "python",
   "pygments_lexer": "ipython3",
   "version": "3.7.0"
  }
 },
 "nbformat": 4,
 "nbformat_minor": 2
}
