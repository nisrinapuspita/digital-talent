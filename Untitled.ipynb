{
 "cells": [
  {
   "cell_type": "markdown",
   "metadata": {},
   "source": [
    "# Tugas BMI"
   ]
  },
  {
   "cell_type": "code",
   "execution_count": null,
   "metadata": {},
   "outputs": [],
   "source": [
    "weight = float(input(\"Enter your weight (kg): \"))\n",
    "height = float(input(\"Enter your height (cm): \"))\n",
    "height = height * (10**-2)\n",
    "\n",
    "BMI = weight / (height**2)\n",
    "print (\"BMI: \", BMI)\n",
    "\n",
    "if BMI<15:\n",
    "    print (\"Very severely underweight\")\n",
    "    \n",
    "elif BMI >=15 and BMI <16:\n",
    "    print (\"Severely underweight\")\n",
    "\n",
    "elif BMI >=16 and BMI <18.5:\n",
    "    print (\"Underweight\")"
   ]
  },
  {
   "cell_type": "code",
   "execution_count": null,
   "metadata": {},
   "outputs": [],
   "source": []
  }
 ],
 "metadata": {
  "kernelspec": {
   "display_name": "Python 3",
   "language": "python",
   "name": "python3"
  },
  "language_info": {
   "codemirror_mode": {
    "name": "ipython",
    "version": 3
   },
   "file_extension": ".py",
   "mimetype": "text/x-python",
   "name": "python",
   "nbconvert_exporter": "python",
   "pygments_lexer": "ipython3",
   "version": "3.7.0"
  }
 },
 "nbformat": 4,
 "nbformat_minor": 2
}
